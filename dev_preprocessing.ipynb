{
 "cells": [
  {
   "cell_type": "code",
   "execution_count": 4,
   "id": "150516e2",
   "metadata": {},
   "outputs": [
    {
     "data": {
      "text/plain": [
       "'C:\\\\Users\\\\maggi\\\\anaconda3\\\\envs\\\\capstone\\\\python.exe'"
      ]
     },
     "execution_count": 4,
     "metadata": {},
     "output_type": "execute_result"
    }
   ],
   "source": [
    "# check for proper interpreter\n",
    "import sys\n",
    "sys.executable"
   ]
  },
  {
   "cell_type": "code",
   "execution_count": 15,
   "id": "c57ceb24",
   "metadata": {},
   "outputs": [
    {
     "data": {
      "text/plain": [
       "'C:\\\\Users\\\\maggi\\\\01Jupyter\\\\amts-springboard-capstone\\\\data\\\\Oahu_6545'"
      ]
     },
     "execution_count": 15,
     "metadata": {},
     "output_type": "execute_result"
    }
   ],
   "source": [
    "# set up paths for training data\n",
    "import os\n",
    "SCRIPT_PATH = os.path.dirname(os.path.realpath('__file__'))\n",
    "OAHU_IMG_DIR = os.path.join(SCRIPT_PATH, 'data', 'Oahu_6545')\n",
    "OAHU_IMG_DIR"
   ]
  },
  {
   "cell_type": "code",
   "execution_count": 16,
   "id": "e4080d64",
   "metadata": {},
   "outputs": [],
   "source": [
    "# create variables for multi-spectral band TIFs\n",
    "OAHU_B1 = os.path.join(OAHU_IMG_DIR, 'LC08_L2SP_065045_20150119_20200910_02_T1_SR_B1.TIF')\n",
    "OAHU_B2 = os.path.join(OAHU_IMG_DIR, 'LC08_L2SP_065045_20150119_20200910_02_T1_SR_B2.TIF')\n",
    "OAHU_B3 = os.path.join(OAHU_IMG_DIR, 'LC08_L2SP_065045_20150119_20200910_02_T1_SR_B3.TIF')\n",
    "OAHU_B4 = os.path.join(OAHU_IMG_DIR, 'LC08_L2SP_065045_20150119_20200910_02_T1_SR_B4.TIF')\n",
    "OAHU_B5 = os.path.join(OAHU_IMG_DIR, 'LC08_L2SP_065045_20150119_20200910_02_T1_SR_B5.TIF')"
   ]
  },
  {
   "cell_type": "markdown",
   "id": "87c0f1c6",
   "metadata": {},
   "source": [
    "## EDA"
   ]
  },
  {
   "cell_type": "markdown",
   "id": "bef646db",
   "metadata": {},
   "source": [
    "#### Explore raster (image) band properties. "
   ]
  },
  {
   "cell_type": "code",
   "execution_count": 1,
   "id": "3cd6cea9",
   "metadata": {},
   "outputs": [],
   "source": [
    "# gdal is an open-source geospatial library\n",
    "import gdal"
   ]
  },
  {
   "cell_type": "code",
   "execution_count": 25,
   "id": "5f0fd571",
   "metadata": {},
   "outputs": [],
   "source": [
    "# open raster\n",
    "_b1 = gdal.Open(os.path.abspath(OAHU_B1), gdal.GA_ReadOnly)"
   ]
  },
  {
   "cell_type": "code",
   "execution_count": 32,
   "id": "a1436152",
   "metadata": {},
   "outputs": [
    {
     "name": "stdout",
     "output_type": "stream",
     "text": [
      "Band 1 (Aerosol)\n",
      "\tNumber of rows: 7761\n",
      "\tNumber of columns: 7601\n",
      "\tBands (should just be 1): 1\n",
      "\tCoordinate System (WKT): PROJCS[\"WGS 84 / UTM zone 4N\",GEOGCS[\"WGS 84\",DATUM[\"WGS_1984\",SPHEROID[\"WGS 84\",6378137,298.257223563,AUTHORITY[\"EPSG\",\"7030\"]],AUTHORITY[\"EPSG\",\"6326\"]],PRIMEM[\"Greenwich\",0,AUTHORITY[\"EPSG\",\"8901\"]],UNIT[\"degree\",0.0174532925199433,AUTHORITY[\"EPSG\",\"9122\"]],AUTHORITY[\"EPSG\",\"4326\"]],PROJECTION[\"Transverse_Mercator\"],PARAMETER[\"latitude_of_origin\",0],PARAMETER[\"central_meridian\",-159],PARAMETER[\"scale_factor\",0.9996],PARAMETER[\"false_easting\",500000],PARAMETER[\"false_northing\",0],UNIT[\"metre\",1,AUTHORITY[\"EPSG\",\"9001\"]],AXIS[\"Easting\",EAST],AXIS[\"Northing\",NORTH],AUTHORITY[\"EPSG\",\"32604\"]]\n"
     ]
    }
   ],
   "source": [
    "print('Band 1 (Aerosol)')\n",
    "print(f'\\tNumber of rows: {_b1.RasterYSize}')\n",
    "print(f'\\tNumber of columns: {_b1.RasterXSize}')\n",
    "print(f'\\tBands (should just be 1): {_b1.RasterCount}')\n",
    "print(f'\\tCoordinate System (WKT): {_b1.GetProjection()}')"
   ]
  },
  {
   "cell_type": "code",
   "execution_count": 35,
   "id": "6a15c853",
   "metadata": {},
   "outputs": [
    {
     "name": "stdout",
     "output_type": "stream",
     "text": [
      "Band: 2\n",
      "\tNumber of rows: 7761\n",
      "\tNumber of columns: 7601\n",
      "\tBands (should just be 1): 1\n",
      "\tCoordinate System (WKT): PROJCS[\"WGS 84 / UTM zone 4N\",GEOGCS[\"WGS 84\",DATUM[\"WGS_1984\",SPHEROID[\"WGS 84\",6378137,298.257223563,AUTHORITY[\"EPSG\",\"7030\"]],AUTHORITY[\"EPSG\",\"6326\"]],PRIMEM[\"Greenwich\",0,AUTHORITY[\"EPSG\",\"8901\"]],UNIT[\"degree\",0.0174532925199433,AUTHORITY[\"EPSG\",\"9122\"]],AUTHORITY[\"EPSG\",\"4326\"]],PROJECTION[\"Transverse_Mercator\"],PARAMETER[\"latitude_of_origin\",0],PARAMETER[\"central_meridian\",-159],PARAMETER[\"scale_factor\",0.9996],PARAMETER[\"false_easting\",500000],PARAMETER[\"false_northing\",0],UNIT[\"metre\",1,AUTHORITY[\"EPSG\",\"9001\"]],AXIS[\"Easting\",EAST],AXIS[\"Northing\",NORTH],AUTHORITY[\"EPSG\",\"32604\"]]\n",
      "Band: 3\n",
      "\tNumber of rows: 7761\n",
      "\tNumber of columns: 7601\n",
      "\tBands (should just be 1): 1\n",
      "\tCoordinate System (WKT): PROJCS[\"WGS 84 / UTM zone 4N\",GEOGCS[\"WGS 84\",DATUM[\"WGS_1984\",SPHEROID[\"WGS 84\",6378137,298.257223563,AUTHORITY[\"EPSG\",\"7030\"]],AUTHORITY[\"EPSG\",\"6326\"]],PRIMEM[\"Greenwich\",0,AUTHORITY[\"EPSG\",\"8901\"]],UNIT[\"degree\",0.0174532925199433,AUTHORITY[\"EPSG\",\"9122\"]],AUTHORITY[\"EPSG\",\"4326\"]],PROJECTION[\"Transverse_Mercator\"],PARAMETER[\"latitude_of_origin\",0],PARAMETER[\"central_meridian\",-159],PARAMETER[\"scale_factor\",0.9996],PARAMETER[\"false_easting\",500000],PARAMETER[\"false_northing\",0],UNIT[\"metre\",1,AUTHORITY[\"EPSG\",\"9001\"]],AXIS[\"Easting\",EAST],AXIS[\"Northing\",NORTH],AUTHORITY[\"EPSG\",\"32604\"]]\n",
      "Band: 4\n",
      "\tNumber of rows: 7761\n",
      "\tNumber of columns: 7601\n",
      "\tBands (should just be 1): 1\n",
      "\tCoordinate System (WKT): PROJCS[\"WGS 84 / UTM zone 4N\",GEOGCS[\"WGS 84\",DATUM[\"WGS_1984\",SPHEROID[\"WGS 84\",6378137,298.257223563,AUTHORITY[\"EPSG\",\"7030\"]],AUTHORITY[\"EPSG\",\"6326\"]],PRIMEM[\"Greenwich\",0,AUTHORITY[\"EPSG\",\"8901\"]],UNIT[\"degree\",0.0174532925199433,AUTHORITY[\"EPSG\",\"9122\"]],AUTHORITY[\"EPSG\",\"4326\"]],PROJECTION[\"Transverse_Mercator\"],PARAMETER[\"latitude_of_origin\",0],PARAMETER[\"central_meridian\",-159],PARAMETER[\"scale_factor\",0.9996],PARAMETER[\"false_easting\",500000],PARAMETER[\"false_northing\",0],UNIT[\"metre\",1,AUTHORITY[\"EPSG\",\"9001\"]],AXIS[\"Easting\",EAST],AXIS[\"Northing\",NORTH],AUTHORITY[\"EPSG\",\"32604\"]]\n",
      "Band: 5\n",
      "\tNumber of rows: 7761\n",
      "\tNumber of columns: 7601\n",
      "\tBands (should just be 1): 1\n",
      "\tCoordinate System (WKT): PROJCS[\"WGS 84 / UTM zone 4N\",GEOGCS[\"WGS 84\",DATUM[\"WGS_1984\",SPHEROID[\"WGS 84\",6378137,298.257223563,AUTHORITY[\"EPSG\",\"7030\"]],AUTHORITY[\"EPSG\",\"6326\"]],PRIMEM[\"Greenwich\",0,AUTHORITY[\"EPSG\",\"8901\"]],UNIT[\"degree\",0.0174532925199433,AUTHORITY[\"EPSG\",\"9122\"]],AUTHORITY[\"EPSG\",\"4326\"]],PROJECTION[\"Transverse_Mercator\"],PARAMETER[\"latitude_of_origin\",0],PARAMETER[\"central_meridian\",-159],PARAMETER[\"scale_factor\",0.9996],PARAMETER[\"false_easting\",500000],PARAMETER[\"false_northing\",0],UNIT[\"metre\",1,AUTHORITY[\"EPSG\",\"9001\"]],AXIS[\"Easting\",EAST],AXIS[\"Northing\",NORTH],AUTHORITY[\"EPSG\",\"32604\"]]\n"
     ]
    }
   ],
   "source": [
    "# verify all bands 2-5 are the same size and projection as band 1\n",
    "_rasters = [OAHU_B2, OAHU_B3, OAHU_B4, OAHU_B5]\n",
    "_band = 1\n",
    "for _rstr in _rasters:\n",
    "    _path = os.path.abspath(_rstr)\n",
    "    _open = gdal.Open(os.path.abspath(OAHU_B1), gdal.GA_ReadOnly)\n",
    "    print(f'Band: {_band + 1}')\n",
    "    print(f'\\tNumber of rows: {_open.RasterYSize}')\n",
    "    print(f'\\tNumber of columns: {_open.RasterXSize}')\n",
    "    print(f'\\tBands (should just be 1): {_open.RasterCount}')\n",
    "    print(f'\\tCoordinate System (WKT): {_open.GetProjection()}')\n",
    "    _band = _band + 1"
   ]
  },
  {
   "cell_type": "code",
   "execution_count": 36,
   "id": "a2efb34f",
   "metadata": {},
   "outputs": [],
   "source": [
    "# TODO:\n",
    "# Visualize raster\n",
    "# Choose a random point on the rasters and make sure the points align"
   ]
  },
  {
   "cell_type": "markdown",
   "id": "198dff4c",
   "metadata": {},
   "source": [
    "## Wrangling"
   ]
  },
  {
   "cell_type": "markdown",
   "id": "1fdd7ff8",
   "metadata": {},
   "source": [
    "### Save pixel info in CSV"
   ]
  },
  {
   "cell_type": "code",
   "execution_count": 37,
   "id": "e94e524e",
   "metadata": {},
   "outputs": [],
   "source": [
    "# TODO:\n",
    "# Create 5,000 random points on the rasters and view them in dataframe or array\n",
    "# save these to a csv\n",
    "\n",
    "# Future question: how to extract same location info from lidar dataset?"
   ]
  }
 ],
 "metadata": {
  "kernelspec": {
   "display_name": "capstone",
   "language": "python",
   "name": "capstone"
  },
  "language_info": {
   "codemirror_mode": {
    "name": "ipython",
    "version": 3
   },
   "file_extension": ".py",
   "mimetype": "text/x-python",
   "name": "python",
   "nbconvert_exporter": "python",
   "pygments_lexer": "ipython3",
   "version": "3.6.13"
  }
 },
 "nbformat": 4,
 "nbformat_minor": 5
}
