{
 "cells": [
  {
   "cell_type": "code",
   "execution_count": 2,
   "id": "150516e2",
   "metadata": {},
   "outputs": [
    {
     "data": {
      "text/plain": [
       "'C:\\\\Users\\\\maggi\\\\anaconda3\\\\envs\\\\capstone\\\\python.exe'"
      ]
     },
     "execution_count": 2,
     "metadata": {},
     "output_type": "execute_result"
    }
   ],
   "source": [
    "# check for proper interpreter\n",
    "import sys\n",
    "sys.executable"
   ]
  },
  {
   "cell_type": "code",
   "execution_count": 3,
   "id": "c57ceb24",
   "metadata": {},
   "outputs": [
    {
     "data": {
      "text/plain": [
       "'C:\\\\Users\\\\maggi\\\\01Jupyter\\\\amts-springboard-capstone\\\\Oahu_6545'"
      ]
     },
     "execution_count": 3,
     "metadata": {},
     "output_type": "execute_result"
    }
   ],
   "source": [
    "# set up relative paths for training data\n",
    "import os\n",
    "SCRIPT_PATH = os.path.dirname(os.path.realpath('__file__'))\n",
    "OAHU_IMG_DIR = os.path.join(SCRIPT_PATH, 'Oahu_6545')\n",
    "OAHU_IMG_DIR"
   ]
  },
  {
   "cell_type": "code",
   "execution_count": 14,
   "id": "e4080d64",
   "metadata": {},
   "outputs": [],
   "source": [
    "# create variables for multi-spectral band TIFs\n",
    "OAHU_B1 = os.path.join(OAHU_IMG_DIR, 'LC08_L2SP_065045_20150119_20200910_02_T1_SR_B1.TIF')\n",
    "OAHU_B2 = os.path.join(OAHU_IMG_DIR, 'LC08_L2SP_065045_20150119_20200910_02_T1_SR_B2.TIF')\n",
    "OAHU_B3 = os.path.join(OAHU_IMG_DIR, 'LC08_L2SP_065045_20150119_20200910_02_T1_SR_B3.TIF')\n",
    "OAHU_B4 = os.path.join(OAHU_IMG_DIR, 'LC08_L2SP_065045_20150119_20200910_02_T1_SR_B4.TIF')\n",
    "OAHU_B5 = os.path.join(OAHU_IMG_DIR, 'LC08_L2SP_065045_20150119_20200910_02_T1_SR_B5.TIF')"
   ]
  },
  {
   "cell_type": "code",
   "execution_count": 40,
   "id": "d0e99968",
   "metadata": {},
   "outputs": [
    {
     "name": "stdout",
     "output_type": "stream",
     "text": [
      "['C:\\\\Users\\\\maggi\\\\01Jupyter\\\\amts-springboard-capstone', 'C:\\\\Users\\\\maggi\\\\anaconda3\\\\envs\\\\capstone\\\\python39.zip', 'C:\\\\Users\\\\maggi\\\\anaconda3\\\\envs\\\\capstone\\\\DLLs', 'C:\\\\Users\\\\maggi\\\\anaconda3\\\\envs\\\\capstone\\\\lib', 'C:\\\\Users\\\\maggi\\\\anaconda3\\\\envs\\\\capstone', '', 'C:\\\\Users\\\\maggi\\\\anaconda3\\\\envs\\\\capstone\\\\lib\\\\site-packages', 'C:\\\\Users\\\\maggi\\\\anaconda3\\\\envs\\\\capstone\\\\lib\\\\site-packages\\\\win32', 'C:\\\\Users\\\\maggi\\\\anaconda3\\\\envs\\\\capstone\\\\lib\\\\site-packages\\\\win32\\\\lib', 'C:\\\\Users\\\\maggi\\\\anaconda3\\\\envs\\\\capstone\\\\lib\\\\site-packages\\\\Pythonwin', 'C:\\\\Users\\\\maggi\\\\anaconda3\\\\envs\\\\capstone\\\\lib\\\\site-packages\\\\IPython\\\\extensions', 'C:\\\\Users\\\\maggi\\\\.ipython', 'C:\\\\Users\\\\maggi\\\\anaconda3\\\\envs\\\\capstone\\\\python.exe', 'C:\\\\Users\\\\maggi\\\\anaconda3\\\\envs\\\\capstone']\n"
     ]
    }
   ],
   "source": [
    "# build virtual, true-color image by stacking bands 2-4\n",
    "import gdal\n"
   ]
  },
  {
   "cell_type": "code",
   "execution_count": 1,
   "id": "9f9ebb72",
   "metadata": {},
   "outputs": [],
   "source": []
  }
 ],
 "metadata": {
  "kernelspec": {
   "display_name": "capstone",
   "language": "python",
   "name": "capstone"
  },
  "language_info": {
   "codemirror_mode": {
    "name": "ipython",
    "version": 3
   },
   "file_extension": ".py",
   "mimetype": "text/x-python",
   "name": "python",
   "nbconvert_exporter": "python",
   "pygments_lexer": "ipython3",
   "version": "3.6.13"
  }
 },
 "nbformat": 4,
 "nbformat_minor": 5
}
